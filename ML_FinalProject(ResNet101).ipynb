{
 "cells": [
  {
   "cell_type": "code",
   "execution_count": 1,
   "id": "4f408a58-4e1c-4bff-ba45-cdf060ab2178",
   "metadata": {
    "ExecuteTime": {
     "end_time": "2024-11-26T07:06:33.813872Z",
     "start_time": "2024-11-26T07:06:31.793136Z"
    },
    "executionInfo": {
     "elapsed": 9928,
     "status": "ok",
     "timestamp": 1733889782962,
     "user": {
      "displayName": "Jared Alanis",
      "userId": "16109076941793266727"
     },
     "user_tz": 480
    },
    "id": "4f408a58-4e1c-4bff-ba45-cdf060ab2178"
   },
   "outputs": [],
   "source": [
    "import os\n",
    "import torch\n",
    "from torchvision import datasets, models, transforms\n",
    "from torch.utils.data import DataLoader####, WeightedRandomSampler\n",
    "import torch.nn as nn\n",
    "import torch.optim as optim\n",
    "from tqdm import tqdm\n",
    "from sklearn.metrics import confusion_matrix, ConfusionMatrixDisplay\n",
    "import matplotlib.pyplot as plt"
   ]
  },
  {
   "cell_type": "code",
   "execution_count": 2,
   "id": "362aefcf-9e9f-4cab-b323-4615170c0f43",
   "metadata": {
    "ExecuteTime": {
     "end_time": "2024-11-26T07:06:33.821405Z",
     "start_time": "2024-11-26T07:06:33.818389Z"
    },
    "executionInfo": {
     "elapsed": 277,
     "status": "ok",
     "timestamp": 1733889861641,
     "user": {
      "displayName": "Jared Alanis",
      "userId": "16109076941793266727"
     },
     "user_tz": 480
    },
    "id": "362aefcf-9e9f-4cab-b323-4615170c0f43"
   },
   "outputs": [
    {
     "name": "stdout",
     "output_type": "stream",
     "text": [
      "Train directory: ./data\\train\n",
      "Test directory: ./data\\test\n"
     ]
    }
   ],
   "source": [
    "# Set paths for train and test data\n",
    "# Assuming the data folder is in the current directory of the Jupyter Notebook\n",
    "data_dir = \"./data\"  # Update this path to the correct location if necessary\n",
    "train_dir = os.path.join(data_dir, \"train\")\n",
    "test_dir = os.path.join(data_dir, \"test\")\n",
    "\n",
    "# Define data transformations\n",
    "data_transforms = {\n",
    "    'train': transforms.Compose([\n",
    "        transforms.Resize(232, interpolation=transforms.InterpolationMode.BILINEAR),  # Resize updated for V2\n",
    "        transforms.RandomCrop(224),\n",
    "        transforms.RandomHorizontalFlip(),\n",
    "        transforms.ToTensor(),\n",
    "        transforms.Normalize(mean=[0.485, 0.456, 0.406], std=[0.229, 0.224, 0.225]),\n",
    "    ]),\n",
    "    'test': transforms.Compose([\n",
    "        transforms.Resize(232, interpolation=transforms.InterpolationMode.BILINEAR),  # Resize updated for V2\n",
    "        transforms.CenterCrop(224),\n",
    "        transforms.ToTensor(),\n",
    "        transforms.Normalize(mean=[0.485, 0.456, 0.406], std=[0.229, 0.224, 0.225]),\n",
    "    ]),\n",
    "}\n",
    "\n",
    "# Confirm the paths for data\n",
    "print(\"Train directory:\", train_dir)\n",
    "print(\"Test directory:\", test_dir)\n",
    "\n",
    "# If paths are incorrect, update `data_dir` to point to the correct location.\n"
   ]
  },
  {
   "cell_type": "code",
   "execution_count": 3,
   "id": "340c03d9-e09c-42b1-ab18-a0b5047bf1eb",
   "metadata": {
    "ExecuteTime": {
     "end_time": "2024-11-26T07:06:33.924906Z",
     "start_time": "2024-11-26T07:06:33.915868Z"
    },
    "colab": {
     "base_uri": "https://localhost:8080/"
    },
    "executionInfo": {
     "elapsed": 2738,
     "status": "ok",
     "timestamp": 1733889866872,
     "user": {
      "displayName": "Jared Alanis",
      "userId": "16109076941793266727"
     },
     "user_tz": 480
    },
    "id": "340c03d9-e09c-42b1-ab18-a0b5047bf1eb",
    "outputId": "9e01db5f-cb0c-49e0-f3dc-19b4d1bea622"
   },
   "outputs": [
    {
     "name": "stdout",
     "output_type": "stream",
     "text": [
      "Classes: ['blues', 'classical', 'country', 'disco', 'hiphop', 'jazz', 'metal', 'pop', 'reggae', 'rock']\n"
     ]
    }
   ],
   "source": [
    "# Load datasets\n",
    "train_dataset = datasets.ImageFolder(train_dir, transform=data_transforms['train'])\n",
    "test_dataset = datasets.ImageFolder(test_dir, transform=data_transforms['test'])\n",
    "\n",
    "# Compute class weights\n",
    "####class_counts = [len([label for label in train_dataset.targets if label == c]) for c in range(len(class_names))]\n",
    "####class_weights = 1. / torch.tensor(class_counts, dtype=torch.float)\n",
    "####sample_weights = [class_weights[label] for label in train_dataset.targets]\n",
    "\n",
    "# Define the WeightedRandomSampler\n",
    "####sampler = WeightedRandomSampler(weights=sample_weights, num_samples=len(sample_weights), replacement=True)\n",
    "\n",
    "# Create data loaders\n",
    "train_loader = DataLoader(train_dataset, batch_size=16, shuffle=True) # used to be 32\n",
    "test_loader = DataLoader(test_dataset, batch_size=16, shuffle=False) # used to be 32\n",
    "\n",
    "# Get class names\n",
    "class_names = train_dataset.classes\n",
    "print(\"Classes:\", class_names)"
   ]
  },
  {
   "cell_type": "code",
   "execution_count": 4,
   "id": "a503b605-82fa-4de9-83d3-056a08ed4b2f",
   "metadata": {
    "ExecuteTime": {
     "end_time": "2024-11-26T07:06:37.663403Z",
     "start_time": "2024-11-26T07:06:33.930435Z"
    },
    "colab": {
     "base_uri": "https://localhost:8080/"
    },
    "executionInfo": {
     "elapsed": 1598,
     "status": "ok",
     "timestamp": 1733889870872,
     "user": {
      "displayName": "Jared Alanis",
      "userId": "16109076941793266727"
     },
     "user_tz": 480
    },
    "id": "a503b605-82fa-4de9-83d3-056a08ed4b2f",
    "outputId": "d490de73-f84c-4915-d641-68139856a273"
   },
   "outputs": [
    {
     "name": "stderr",
     "output_type": "stream",
     "text": [
      "Downloading: \"https://download.pytorch.org/models/resnet101-cd907fc2.pth\" to C:\\Users\\lpika/.cache\\torch\\hub\\checkpoints\\resnet101-cd907fc2.pth\n",
      "100%|██████████| 171M/171M [00:39<00:00, 4.48MB/s] \n"
     ]
    },
    {
     "name": "stdout",
     "output_type": "stream",
     "text": [
      "ResNet-101 model successfully loaded and modified.\n",
      "cuda\n"
     ]
    }
   ],
   "source": [
    "# Load pretrained ResNet-101 model\n",
    "#resnet101 = models.resnet101(weights=models.ResNet101_Weights.IMAGENET1K_V1)\n",
    "resnet101 = models.resnet101(weights=models.ResNet101_Weights.IMAGENET1K_V2)\n",
    "\n",
    "# Freeze feature extraction layers (optional for transfer learning)\n",
    "for param in resnet101.parameters():  # Access all parameters directly\n",
    "    param.requires_grad = False\n",
    "\n",
    "# Modify the classifier (FC layer) for your dataset\n",
    "num_classes = len(class_names)  # Replace 'class_names' with your actual number of classes\n",
    "resnet101.fc = nn.Linear(in_features=resnet101.fc.in_features, out_features=num_classes)\n",
    "\n",
    "# Move model to the appropriate device\n",
    "device = torch.device(\"cuda\" if torch.cuda.is_available() else \"cpu\")\n",
    "resnet101 = resnet101.to(device)\n",
    "\n",
    "print(\"ResNet-101 model successfully loaded and modified.\")\n",
    "print(device)"
   ]
  },
  {
   "cell_type": "code",
   "execution_count": 5,
   "id": "9965c9e9-6553-41f6-90e5-d5527e8e9881",
   "metadata": {
    "ExecuteTime": {
     "end_time": "2024-11-26T07:06:37.742486Z",
     "start_time": "2024-11-26T07:06:37.739134Z"
    },
    "executionInfo": {
     "elapsed": 4,
     "status": "ok",
     "timestamp": 1733889872749,
     "user": {
      "displayName": "Jared Alanis",
      "userId": "16109076941793266727"
     },
     "user_tz": 480
    },
    "id": "9965c9e9-6553-41f6-90e5-d5527e8e9881"
   },
   "outputs": [],
   "source": [
    "# Define loss function and optimizer\n",
    "criterion = nn.CrossEntropyLoss()\n",
    "optimizer = optim.Adam(resnet101.parameters(), lr=5e-4)"
   ]
  },
  {
   "cell_type": "code",
   "execution_count": 6,
   "id": "J7-9EWnv88D2",
   "metadata": {
    "executionInfo": {
     "elapsed": 160,
     "status": "ok",
     "timestamp": 1733890364665,
     "user": {
      "displayName": "Jared Alanis",
      "userId": "16109076941793266727"
     },
     "user_tz": 480
    },
    "id": "J7-9EWnv88D2"
   },
   "outputs": [],
   "source": [
    "# Define the learning rate scheduler\n",
    "scheduler = torch.optim.lr_scheduler.ReduceLROnPlateau(optimizer, mode='max', patience=3, factor=0.1)"
   ]
  },
  {
   "cell_type": "code",
   "execution_count": 7,
   "id": "ef0dec7afb1fad34",
   "metadata": {
    "ExecuteTime": {
     "end_time": "2024-11-26T07:06:37.760004Z",
     "start_time": "2024-11-26T07:06:37.756317Z"
    },
    "executionInfo": {
     "elapsed": 160,
     "status": "ok",
     "timestamp": 1733890366074,
     "user": {
      "displayName": "Jared Alanis",
      "userId": "16109076941793266727"
     },
     "user_tz": 480
    },
    "id": "ef0dec7afb1fad34"
   },
   "outputs": [],
   "source": [
    "# Evaluate the model on the test set\n",
    "\n",
    "def test_model(model, get_cm_data=True):\n",
    "    train_correct = 0\n",
    "    train_total = 0\n",
    "\n",
    "    test_correct = 0\n",
    "    test_total = 0\n",
    "\n",
    "    _train_label_true = []\n",
    "    _train_label_pred = []\n",
    "\n",
    "    _test_label_true = []\n",
    "    _test_label_pred = []\n",
    "\n",
    "    model.eval()\n",
    "\n",
    "    with torch.inference_mode():\n",
    "        for _inputs, _labels in train_loader:\n",
    "            _inputs, _labels = _inputs.to(device), _labels.to(device)\n",
    "            _outputs = model(_inputs)\n",
    "            _, preds = torch.max(_outputs, 1)\n",
    "            train_correct += (preds == _labels).sum().item()\n",
    "            train_total += _labels.size(0)\n",
    "            if get_cm_data:\n",
    "                _train_label_true.append(_labels)\n",
    "                _train_label_pred.append(preds)\n",
    "\n",
    "        for _inputs, _labels in test_loader:\n",
    "            _inputs, _labels = _inputs.to(device), _labels.to(device)\n",
    "            _outputs = model(_inputs)\n",
    "            _, preds = torch.max(_outputs, 1)\n",
    "            test_correct += (preds == _labels).sum().item()\n",
    "            test_total += _labels.size(0)\n",
    "            if get_cm_data:\n",
    "                _test_label_true.append(_labels)\n",
    "                _test_label_pred.append(preds)\n",
    "\n",
    "    _train_accuracy = (train_correct / train_total) * 100\n",
    "    _test_accuracy = (test_correct / test_total) * 100\n",
    "\n",
    "    return _train_accuracy, _test_accuracy, _train_label_true, _train_label_pred, _test_label_true, _test_label_pred"
   ]
  },
  {
   "cell_type": "code",
   "execution_count": 8,
   "id": "09f6dae6-7e2a-4587-95b8-6dcf7c3e2f7f",
   "metadata": {
    "ExecuteTime": {
     "end_time": "2024-11-26T07:10:18.737922Z",
     "start_time": "2024-11-26T07:06:37.772340Z"
    },
    "colab": {
     "base_uri": "https://localhost:8080/"
    },
    "id": "09f6dae6-7e2a-4587-95b8-6dcf7c3e2f7f",
    "outputId": "a8894987-2a8f-4eb2-be98-dbf22124cb95"
   },
   "outputs": [
    {
     "name": "stderr",
     "output_type": "stream",
     "text": [
      "  3%|▎         | 1/30 [00:10<05:09, 10.67s/it]"
     ]
    },
    {
     "name": "stdout",
     "output_type": "stream",
     "text": [
      "Epoch 1/30\n",
      "Training Loss: 2.1902\n",
      "Training Accuracy: 43.1250\n",
      "Testing Accuracy: 39.6985 \n",
      "\n"
     ]
    },
    {
     "name": "stderr",
     "output_type": "stream",
     "text": [
      "  7%|▋         | 2/30 [00:20<04:41, 10.07s/it]"
     ]
    },
    {
     "name": "stdout",
     "output_type": "stream",
     "text": [
      "Epoch 2/30\n",
      "Training Loss: 1.9592\n",
      "Training Accuracy: 48.2500\n",
      "Testing Accuracy: 46.2312 \n",
      "\n"
     ]
    },
    {
     "name": "stderr",
     "output_type": "stream",
     "text": [
      " 10%|█         | 3/30 [00:30<04:29,  9.98s/it]"
     ]
    },
    {
     "name": "stdout",
     "output_type": "stream",
     "text": [
      "Epoch 3/30\n",
      "Training Loss: 1.8015\n",
      "Training Accuracy: 50.2500\n",
      "Testing Accuracy: 46.7337 \n",
      "\n"
     ]
    },
    {
     "name": "stderr",
     "output_type": "stream",
     "text": [
      " 13%|█▎        | 4/30 [00:40<04:18,  9.94s/it]"
     ]
    },
    {
     "name": "stdout",
     "output_type": "stream",
     "text": [
      "Epoch 4/30\n",
      "Training Loss: 1.6766\n",
      "Training Accuracy: 53.1250\n",
      "Testing Accuracy: 47.7387 \n",
      "\n"
     ]
    },
    {
     "name": "stderr",
     "output_type": "stream",
     "text": [
      " 17%|█▋        | 5/30 [00:49<04:07,  9.89s/it]"
     ]
    },
    {
     "name": "stdout",
     "output_type": "stream",
     "text": [
      "Epoch 5/30\n",
      "Training Loss: 1.5952\n",
      "Training Accuracy: 55.3750\n",
      "Testing Accuracy: 49.7487 \n",
      "\n"
     ]
    },
    {
     "name": "stderr",
     "output_type": "stream",
     "text": [
      " 20%|██        | 6/30 [00:59<03:56,  9.85s/it]"
     ]
    },
    {
     "name": "stdout",
     "output_type": "stream",
     "text": [
      "Epoch 6/30\n",
      "Training Loss: 1.5127\n",
      "Training Accuracy: 56.8750\n",
      "Testing Accuracy: 53.7688 \n",
      "\n"
     ]
    },
    {
     "name": "stderr",
     "output_type": "stream",
     "text": [
      " 23%|██▎       | 7/30 [01:09<03:44,  9.78s/it]"
     ]
    },
    {
     "name": "stdout",
     "output_type": "stream",
     "text": [
      "Epoch 7/30\n",
      "Training Loss: 1.4441\n",
      "Training Accuracy: 57.8750\n",
      "Testing Accuracy: 53.2663 \n",
      "\n"
     ]
    },
    {
     "name": "stderr",
     "output_type": "stream",
     "text": [
      " 27%|██▋       | 8/30 [01:19<03:34,  9.76s/it]"
     ]
    },
    {
     "name": "stdout",
     "output_type": "stream",
     "text": [
      "Epoch 8/30\n",
      "Training Loss: 1.4181\n",
      "Training Accuracy: 60.0000\n",
      "Testing Accuracy: 52.7638 \n",
      "\n"
     ]
    },
    {
     "name": "stderr",
     "output_type": "stream",
     "text": [
      " 30%|███       | 9/30 [01:28<03:24,  9.75s/it]"
     ]
    },
    {
     "name": "stdout",
     "output_type": "stream",
     "text": [
      "Epoch 9/30\n",
      "Training Loss: 1.3511\n",
      "Training Accuracy: 63.5000\n",
      "Testing Accuracy: 53.2663 \n",
      "\n"
     ]
    },
    {
     "name": "stderr",
     "output_type": "stream",
     "text": [
      " 33%|███▎      | 10/30 [01:38<03:14,  9.74s/it]"
     ]
    },
    {
     "name": "stdout",
     "output_type": "stream",
     "text": [
      "Epoch 10/30\n",
      "Training Loss: 1.3490\n",
      "Training Accuracy: 64.0000\n",
      "Testing Accuracy: 55.7789 \n",
      "\n"
     ]
    },
    {
     "name": "stderr",
     "output_type": "stream",
     "text": [
      " 37%|███▋      | 11/30 [01:48<03:04,  9.73s/it]"
     ]
    },
    {
     "name": "stdout",
     "output_type": "stream",
     "text": [
      "Epoch 11/30\n",
      "Training Loss: 1.3171\n",
      "Training Accuracy: 63.1250\n",
      "Testing Accuracy: 55.2764 \n",
      "\n"
     ]
    },
    {
     "name": "stderr",
     "output_type": "stream",
     "text": [
      " 40%|████      | 12/30 [01:57<02:54,  9.70s/it]"
     ]
    },
    {
     "name": "stdout",
     "output_type": "stream",
     "text": [
      "Epoch 12/30\n",
      "Training Loss: 1.2851\n",
      "Training Accuracy: 63.6250\n",
      "Testing Accuracy: 56.2814 \n",
      "\n"
     ]
    },
    {
     "name": "stderr",
     "output_type": "stream",
     "text": [
      " 43%|████▎     | 13/30 [02:07<02:45,  9.73s/it]"
     ]
    },
    {
     "name": "stdout",
     "output_type": "stream",
     "text": [
      "Epoch 13/30\n",
      "Training Loss: 1.2503\n",
      "Training Accuracy: 64.1250\n",
      "Testing Accuracy: 55.2764 \n",
      "\n"
     ]
    },
    {
     "name": "stderr",
     "output_type": "stream",
     "text": [
      " 47%|████▋     | 14/30 [02:17<02:37,  9.81s/it]"
     ]
    },
    {
     "name": "stdout",
     "output_type": "stream",
     "text": [
      "Epoch 14/30\n",
      "Training Loss: 1.2153\n",
      "Training Accuracy: 64.6250\n",
      "Testing Accuracy: 58.2915 \n",
      "\n"
     ]
    },
    {
     "name": "stderr",
     "output_type": "stream",
     "text": [
      " 50%|█████     | 15/30 [02:27<02:27,  9.81s/it]"
     ]
    },
    {
     "name": "stdout",
     "output_type": "stream",
     "text": [
      "Epoch 15/30\n",
      "Training Loss: 1.2286\n",
      "Training Accuracy: 65.5000\n",
      "Testing Accuracy: 57.7889 \n",
      "\n"
     ]
    },
    {
     "name": "stderr",
     "output_type": "stream",
     "text": [
      " 53%|█████▎    | 16/30 [02:37<02:17,  9.81s/it]"
     ]
    },
    {
     "name": "stdout",
     "output_type": "stream",
     "text": [
      "Epoch 16/30\n",
      "Training Loss: 1.2006\n",
      "Training Accuracy: 68.1250\n",
      "Testing Accuracy: 58.7940 \n",
      "\n"
     ]
    },
    {
     "name": "stderr",
     "output_type": "stream",
     "text": [
      " 57%|█████▋    | 17/30 [02:47<02:07,  9.83s/it]"
     ]
    },
    {
     "name": "stdout",
     "output_type": "stream",
     "text": [
      "Epoch 17/30\n",
      "Training Loss: 1.1916\n",
      "Training Accuracy: 66.2500\n",
      "Testing Accuracy: 54.2714 \n",
      "\n"
     ]
    },
    {
     "name": "stderr",
     "output_type": "stream",
     "text": [
      " 60%|██████    | 18/30 [02:56<01:57,  9.81s/it]"
     ]
    },
    {
     "name": "stdout",
     "output_type": "stream",
     "text": [
      "Epoch 18/30\n",
      "Training Loss: 1.1609\n",
      "Training Accuracy: 64.3750\n",
      "Testing Accuracy: 59.2965 \n",
      "\n"
     ]
    },
    {
     "name": "stderr",
     "output_type": "stream",
     "text": [
      " 63%|██████▎   | 19/30 [03:06<01:48,  9.85s/it]"
     ]
    },
    {
     "name": "stdout",
     "output_type": "stream",
     "text": [
      "Epoch 19/30\n",
      "Training Loss: 1.1668\n",
      "Training Accuracy: 69.5000\n",
      "Testing Accuracy: 60.8040 \n",
      "\n"
     ]
    },
    {
     "name": "stderr",
     "output_type": "stream",
     "text": [
      " 67%|██████▋   | 20/30 [03:16<01:38,  9.87s/it]"
     ]
    },
    {
     "name": "stdout",
     "output_type": "stream",
     "text": [
      "Epoch 20/30\n",
      "Training Loss: 1.1202\n",
      "Training Accuracy: 68.3750\n",
      "Testing Accuracy: 58.7940 \n",
      "\n"
     ]
    },
    {
     "name": "stderr",
     "output_type": "stream",
     "text": [
      " 70%|███████   | 21/30 [03:26<01:29,  9.89s/it]"
     ]
    },
    {
     "name": "stdout",
     "output_type": "stream",
     "text": [
      "Epoch 21/30\n",
      "Training Loss: 1.1337\n",
      "Training Accuracy: 67.7500\n",
      "Testing Accuracy: 60.3015 \n",
      "\n"
     ]
    },
    {
     "name": "stderr",
     "output_type": "stream",
     "text": [
      " 73%|███████▎  | 22/30 [03:36<01:19,  9.91s/it]"
     ]
    },
    {
     "name": "stdout",
     "output_type": "stream",
     "text": [
      "Epoch 22/30\n",
      "Training Loss: 1.1218\n",
      "Training Accuracy: 68.2500\n",
      "Testing Accuracy: 62.8141 \n",
      "\n"
     ]
    },
    {
     "name": "stderr",
     "output_type": "stream",
     "text": [
      " 77%|███████▋  | 23/30 [03:46<01:09,  9.90s/it]"
     ]
    },
    {
     "name": "stdout",
     "output_type": "stream",
     "text": [
      "Epoch 23/30\n",
      "Training Loss: 1.0959\n",
      "Training Accuracy: 69.6250\n",
      "Testing Accuracy: 60.8040 \n",
      "\n"
     ]
    },
    {
     "name": "stderr",
     "output_type": "stream",
     "text": [
      " 80%|████████  | 24/30 [03:56<00:59,  9.89s/it]"
     ]
    },
    {
     "name": "stdout",
     "output_type": "stream",
     "text": [
      "Epoch 24/30\n",
      "Training Loss: 1.0928\n",
      "Training Accuracy: 70.1250\n",
      "Testing Accuracy: 59.2965 \n",
      "\n"
     ]
    },
    {
     "name": "stderr",
     "output_type": "stream",
     "text": [
      " 83%|████████▎ | 25/30 [04:06<00:49,  9.86s/it]"
     ]
    },
    {
     "name": "stdout",
     "output_type": "stream",
     "text": [
      "Epoch 25/30\n",
      "Training Loss: 1.0407\n",
      "Training Accuracy: 70.5000\n",
      "Testing Accuracy: 60.8040 \n",
      "\n"
     ]
    },
    {
     "name": "stderr",
     "output_type": "stream",
     "text": [
      " 87%|████████▋ | 26/30 [04:15<00:39,  9.83s/it]"
     ]
    },
    {
     "name": "stdout",
     "output_type": "stream",
     "text": [
      "Epoch 26/30\n",
      "Training Loss: 1.0548\n",
      "Training Accuracy: 70.8750\n",
      "Testing Accuracy: 60.3015 \n",
      "\n"
     ]
    },
    {
     "name": "stderr",
     "output_type": "stream",
     "text": [
      " 90%|█████████ | 27/30 [04:25<00:29,  9.91s/it]"
     ]
    },
    {
     "name": "stdout",
     "output_type": "stream",
     "text": [
      "Epoch 27/30\n",
      "Training Loss: 1.0589\n",
      "Training Accuracy: 70.1250\n",
      "Testing Accuracy: 60.8040 \n",
      "\n",
      "Epoch 28/30\n",
      "Training Loss: 1.0410\n",
      "Training Accuracy: 68.7500\n",
      "Testing Accuracy: 60.8040 \n",
      "\n"
     ]
    },
    {
     "name": "stderr",
     "output_type": "stream",
     "text": [
      " 97%|█████████▋| 29/30 [04:46<00:09,  9.97s/it]"
     ]
    },
    {
     "name": "stdout",
     "output_type": "stream",
     "text": [
      "Epoch 29/30\n",
      "Training Loss: 1.0453\n",
      "Training Accuracy: 72.5000\n",
      "Testing Accuracy: 61.3065 \n",
      "\n"
     ]
    },
    {
     "name": "stderr",
     "output_type": "stream",
     "text": [
      "100%|██████████| 30/30 [04:56<00:00,  9.87s/it]"
     ]
    },
    {
     "name": "stdout",
     "output_type": "stream",
     "text": [
      "Epoch 30/30\n",
      "Training Loss: 1.0503\n",
      "Training Accuracy: 70.8750\n",
      "Testing Accuracy: 61.3065 \n",
      "\n"
     ]
    },
    {
     "name": "stderr",
     "output_type": "stream",
     "text": [
      "\n"
     ]
    }
   ],
   "source": [
    "# Training loop\n",
    "num_epochs = 30\n",
    "\n",
    "train_loss_history = []\n",
    "train_accuracy_history = []\n",
    "test_accuracy_history = []\n",
    "\n",
    "for epoch in tqdm(range(num_epochs)):\n",
    "    resnet101.train()\n",
    "    running_loss = 0.0\n",
    "\n",
    "    for inputs, labels in train_loader:\n",
    "        inputs, labels = inputs.to(device), labels.to(device)\n",
    "\n",
    "        optimizer.zero_grad()\n",
    "        outputs = resnet101(inputs)\n",
    "        loss = criterion(outputs, labels)\n",
    "        loss.backward()\n",
    "        optimizer.step()\n",
    "\n",
    "        running_loss += loss.item()\n",
    "\n",
    "    train_accuracy, test_accuracy, train_label_true, train_label_pred, test_label_true, test_label_pred = test_model(resnet101, get_cm_data=False)\n",
    "    train_accuracy_history.append(train_accuracy)\n",
    "    test_accuracy_history.append(test_accuracy)\n",
    "\n",
    "    epoch_loss = running_loss / len(train_loader)\n",
    "    train_loss_history.append(epoch_loss)\n",
    "\n",
    "\n",
    "    print(f\"Epoch {epoch+1}/{num_epochs}\")\n",
    "    print(f\"Training Loss: {epoch_loss:.4f}\")\n",
    "    print(f\"Training Accuracy: {train_accuracy:.4f}\")\n",
    "    print(f\"Testing Accuracy: {test_accuracy:.4f} \\n\")\n",
    "\n",
    "    # Step the scheduler\n",
    "    scheduler.step(test_accuracy)\n",
    "\n",
    "\n",
    "    torch.save(resnet101.state_dict(), 'resnet101_colab.pth')\n",
    "\n",
    "_, _, train_label_true, train_label_pred, test_label_true, test_label_pred = test_model(resnet101, get_cm_data=True)"
   ]
  },
  {
   "cell_type": "code",
   "execution_count": 9,
   "id": "150380ba-f14b-414a-8de5-78b1edbe41f2",
   "metadata": {
    "ExecuteTime": {
     "end_time": "2024-11-26T07:10:18.905487Z",
     "start_time": "2024-11-26T07:10:18.794750Z"
    },
    "colab": {
     "base_uri": "https://localhost:8080/",
     "height": 472
    },
    "executionInfo": {
     "elapsed": 320,
     "status": "ok",
     "timestamp": 1733798534469,
     "user": {
      "displayName": "Jared Alanis",
      "userId": "16109076941793266727"
     },
     "user_tz": 480
    },
    "id": "150380ba-f14b-414a-8de5-78b1edbe41f2",
    "outputId": "0f2344b1-8360-4384-df1e-874c73c0db12"
   },
   "outputs": [
    {
     "data": {
      "image/png": "[encoded data removed]",
      "text/plain": [
       "<Figure size 640x480 with 1 Axes>"
      ]
     },
     "metadata": {},
     "output_type": "display_data"
    }
   ],
   "source": [
    "# Plot training loss\n",
    "plt.plot(train_loss_history, label='Train Loss History')\n",
    "plt.xlabel('Epochs')\n",
    "plt.ylabel('Loss')\n",
    "plt.title('Training Loss History')\n",
    "plt.legend()\n",
    "plt.show()"
   ]
  },
  {
   "cell_type": "code",
   "execution_count": 10,
   "id": "e09f94106f43ac4f",
   "metadata": {
    "ExecuteTime": {
     "end_time": "2024-11-26T07:10:19.128837Z",
     "start_time": "2024-11-26T07:10:18.990916Z"
    },
    "colab": {
     "base_uri": "https://localhost:8080/",
     "height": 211
    },
    "executionInfo": {
     "elapsed": 164,
     "status": "error",
     "timestamp": 1733889763720,
     "user": {
      "displayName": "Jared Alanis",
      "userId": "16109076941793266727"
     },
     "user_tz": 480
    },
    "id": "e09f94106f43ac4f",
    "outputId": "4ab436a6-0436-4282-a7b4-692bc31c655b"
   },
   "outputs": [
    {
     "data": {
      "image/png": "[encoded data removed]",
      "text/plain": [
       "<Figure size 640x480 with 1 Axes>"
      ]
     },
     "metadata": {},
     "output_type": "display_data"
    }
   ],
   "source": [
    "# Plot training loss\n",
    "plt.plot(train_accuracy_history, label='Training Accuracy')\n",
    "plt.plot(test_accuracy_history, label='Testing Accuracy')\n",
    "plt.xlabel('Epochs')\n",
    "plt.ylabel('Accuracy %')\n",
    "plt.title('ResNet-101 Accuracy History')\n",
    "plt.legend()\n",
    "plt.show()"
   ]
  },
  {
   "cell_type": "code",
   "execution_count": 11,
   "id": "1ccaf1aa9834f06d",
   "metadata": {
    "ExecuteTime": {
     "end_time": "2024-11-26T07:10:19.198565Z",
     "start_time": "2024-11-26T07:10:19.193058Z"
    },
    "id": "1ccaf1aa9834f06d"
   },
   "outputs": [],
   "source": [
    "def display_confusion_matrix(true_labels, predicted_labels, is_train=False):\n",
    "    cm = confusion_matrix(torch.cat(true_labels).cpu(), torch.cat(predicted_labels).cpu(), labels=list(range(len(class_names))))\n",
    "\n",
    "    disp = ConfusionMatrixDisplay(confusion_matrix=cm, display_labels=class_names)\n",
    "    disp.plot(cmap='Blues', xticks_rotation=45, colorbar=False)\n",
    "\n",
    "    if is_train:\n",
    "        plt.title(\"Training Confusion Matrix\")\n",
    "    else:\n",
    "        plt.title(\"Testing Confusion Matrix\")\n",
    "\n",
    "    plt.show()"
   ]
  },
  {
   "cell_type": "code",
   "execution_count": 12,
   "id": "65491eea5b37d1ef",
   "metadata": {
    "ExecuteTime": {
     "end_time": "2024-11-26T07:10:19.459530Z",
     "start_time": "2024-11-26T07:10:19.305373Z"
    },
    "colab": {
     "base_uri": "https://localhost:8080/",
     "height": 509
    },
    "executionInfo": {
     "elapsed": 468,
     "status": "ok",
     "timestamp": 1733798546272,
     "user": {
      "displayName": "Jared Alanis",
      "userId": "16109076941793266727"
     },
     "user_tz": 480
    },
    "id": "65491eea5b37d1ef",
    "outputId": "44060082-3adb-474f-cd03-41c4738ae28c"
   },
   "outputs": [
    {
     "data": {
      "image/png": "[encoded data removed]",
      "text/plain": [
       "<Figure size 640x480 with 1 Axes>"
      ]
     },
     "metadata": {},
     "output_type": "display_data"
    }
   ],
   "source": [
    "display_confusion_matrix(train_label_true, train_label_pred, is_train=True)"
   ]
  },
  {
   "cell_type": "code",
   "execution_count": 13,
   "id": "798755ce8a4d9bd5",
   "metadata": {
    "ExecuteTime": {
     "end_time": "2024-11-26T07:10:19.745904Z",
     "start_time": "2024-11-26T07:10:19.521399Z"
    },
    "colab": {
     "base_uri": "https://localhost:8080/",
     "height": 509
    },
    "executionInfo": {
     "elapsed": 340,
     "status": "ok",
     "timestamp": 1733798551315,
     "user": {
      "displayName": "Jared Alanis",
      "userId": "16109076941793266727"
     },
     "user_tz": 480
    },
    "id": "798755ce8a4d9bd5",
    "outputId": "7fd23836-7446-45d6-911f-59c3e44c1b74"
   },
   "outputs": [
    {
     "data": {
      "image/png": "[encoded data removed]",
      "text/plain": [
       "<Figure size 640x480 with 1 Axes>"
      ]
     },
     "metadata": {},
     "output_type": "display_data"
    }
   ],
   "source": [
    "display_confusion_matrix(test_label_true, test_label_pred, is_train=False)"
   ]
  }
 ],
 "metadata": {
  "accelerator": "GPU",
  "colab": {
   "gpuType": "T4",
   "machine_shape": "hm",
   "provenance": [
    {
     "file_id": "1wgD6cW6OuySDzY3xOWNF56cGhq9eBDhs",
     "timestamp": 1733528656834
    },
    {
     "file_id": "1Lr2mVgeisu0uEFrdo-Z_jvpjwen_1uDp",
     "timestamp": 1733525218390
    }
   ]
  },
  "kernelspec": {
   "display_name": "Python 3 (ipykernel)",
   "language": "python",
   "name": "python3"
  },
  "language_info": {
   "codemirror_mode": {
    "name": "ipython",
    "version": 3
   },
   "file_extension": ".py",
   "mimetype": "text/x-python",
   "name": "python",
   "nbconvert_exporter": "python",
   "pygments_lexer": "ipython3",
   "version": "3.12.4"
  }
 },
 "nbformat": 4,
 "nbformat_minor": 5
}
