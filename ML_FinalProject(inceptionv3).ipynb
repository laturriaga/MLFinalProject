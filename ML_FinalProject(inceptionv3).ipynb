{
 "cells": [
  {
   "cell_type": "code",
   "execution_count": 1,
   "id": "4f408a58-4e1c-4bff-ba45-cdf060ab2178",
   "metadata": {
    "ExecuteTime": {
     "end_time": "2024-11-26T07:06:33.813872Z",
     "start_time": "2024-11-26T07:06:31.793136Z"
    }
   },
   "outputs": [],
   "source": [
    "import os\n",
    "import torch\n",
    "from torchvision import datasets, models, transforms\n",
    "from torch.utils.data import DataLoader\n",
    "import torch.nn as nn\n",
    "import torch.optim as optim\n",
    "from tqdm import tqdm\n",
    "from sklearn.metrics import confusion_matrix, ConfusionMatrixDisplay\n",
    "import matplotlib.pyplot as plt"
   ]
  },
  {
   "cell_type": "code",
   "execution_count": 2,
   "id": "362aefcf-9e9f-4cab-b323-4615170c0f43",
   "metadata": {
    "ExecuteTime": {
     "end_time": "2024-11-26T07:06:33.821405Z",
     "start_time": "2024-11-26T07:06:33.818389Z"
    }
   },
   "outputs": [],
   "source": [
    "# Set paths for train and test data\n",
    "data_dir = \"./data\"  # Assuming \"data\" folder is in the same directory as the notebook\n",
    "train_dir = os.path.join(data_dir, \"train\")\n",
    "test_dir = os.path.join(data_dir, \"test\")\n",
    "\n",
    "# Data transformations for Inception V3\n",
    "data_transforms = {\n",
    "    'train': transforms.Compose([\n",
    "        transforms.Resize((299, 299)),  # Resize for Inception V3\n",
    "        transforms.RandomHorizontalFlip(),  # Data augmentation\n",
    "        transforms.ToTensor(),\n",
    "        transforms.Normalize(mean=[0.485, 0.456, 0.406], std=[0.229, 0.224, 0.225]),\n",
    "    ]),\n",
    "    'test': transforms.Compose([\n",
    "        transforms.Resize((299, 299)),\n",
    "        transforms.ToTensor(),\n",
    "        transforms.Normalize(mean=[0.485, 0.456, 0.406], std=[0.229, 0.224, 0.225]),\n",
    "    ]),\n",
    "}"
   ]
  },
  {
   "cell_type": "code",
   "execution_count": 3,
   "id": "340c03d9-e09c-42b1-ab18-a0b5047bf1eb",
   "metadata": {
    "ExecuteTime": {
     "end_time": "2024-11-26T07:06:33.924906Z",
     "start_time": "2024-11-26T07:06:33.915868Z"
    }
   },
   "outputs": [
    {
     "name": "stdout",
     "output_type": "stream",
     "text": [
      "Classes: ['blues', 'classical', 'country', 'disco', 'hiphop', 'jazz', 'metal', 'pop', 'reggae', 'rock']\n"
     ]
    }
   ],
   "source": [
    "# Load datasets\n",
    "train_dataset = datasets.ImageFolder(train_dir, transform=data_transforms['train'])\n",
    "test_dataset = datasets.ImageFolder(test_dir, transform=data_transforms['test'])\n",
    "\n",
    "# Create data loaders\n",
    "train_loader = DataLoader(train_dataset, batch_size=16, shuffle=True) # used to be 32\n",
    "test_loader = DataLoader(test_dataset, batch_size=16, shuffle=False) # used to be 32\n",
    "\n",
    "# Get class names\n",
    "class_names = train_dataset.classes\n",
    "print(\"Classes:\", class_names)"
   ]
  },
  {
   "cell_type": "code",
   "execution_count": 4,
   "id": "a503b605-82fa-4de9-83d3-056a08ed4b2f",
   "metadata": {
    "ExecuteTime": {
     "end_time": "2024-11-26T07:06:37.663403Z",
     "start_time": "2024-11-26T07:06:33.930435Z"
    }
   },
   "outputs": [
    {
     "name": "stdout",
     "output_type": "stream",
     "text": [
      "Model successfully loaded and modified.\n",
      "cuda\n"
     ]
    }
   ],
   "source": [
    "# Load pretrained Inception V3 model\n",
    "inception_v3 = models.inception_v3(weights=models.Inception_V3_Weights.IMAGENET1K_V1)\n",
    "\n",
    "# Freeze feature extraction layers (optional for transfer learning)\n",
    "for param in inception_v3.parameters():\n",
    "    param.requires_grad = False\n",
    "\n",
    "# Modify the classifier for your dataset\n",
    "num_classes = len(class_names)\n",
    "inception_v3.fc = nn.Linear(in_features=2048, out_features=num_classes)\n",
    "\n",
    "# Move model to the appropriate device\n",
    "device = torch.device(\"cuda\" if torch.cuda.is_available() else \"cpu\")\n",
    "inception_v3 = inception_v3.to(device)\n",
    "\n",
    "print(\"Model successfully loaded and modified.\")\n",
    "print(device)"
   ]
  },
  {
   "cell_type": "code",
   "execution_count": 5,
   "id": "9965c9e9-6553-41f6-90e5-d5527e8e9881",
   "metadata": {
    "ExecuteTime": {
     "end_time": "2024-11-26T07:06:37.742486Z",
     "start_time": "2024-11-26T07:06:37.739134Z"
    }
   },
   "outputs": [],
   "source": [
    "# Define loss function and optimizer\n",
    "criterion = nn.CrossEntropyLoss()\n",
    "optimizer = optim.Adam(inception_v3.parameters(), lr=5e-4)"
   ]
  },
  {
   "cell_type": "code",
   "execution_count": 6,
   "id": "ef0dec7afb1fad34",
   "metadata": {
    "ExecuteTime": {
     "end_time": "2024-11-26T07:06:37.760004Z",
     "start_time": "2024-11-26T07:06:37.756317Z"
    }
   },
   "outputs": [],
   "source": [
    "def test_model(model, get_cm_data=True):\n",
    "    train_correct = 0\n",
    "    train_total = 0\n",
    "    \n",
    "    test_correct = 0\n",
    "    test_total = 0\n",
    "\n",
    "    _train_label_true = []\n",
    "    _train_label_pred = []\n",
    "    \n",
    "    _test_label_true = []\n",
    "    _test_label_pred = []\n",
    "    \n",
    "    model.eval()\n",
    "    \n",
    "    with torch.inference_mode():\n",
    "        for _inputs, _labels in train_loader:\n",
    "            _inputs, _labels = _inputs.to(device), _labels.to(device)\n",
    "            _outputs = model(_inputs)\n",
    "            if isinstance(_outputs, tuple):  # For Inception V3\n",
    "                _outputs = _outputs[0]\n",
    "            _, preds = torch.max(_outputs, 1)\n",
    "            train_correct += (preds == _labels).sum().item()\n",
    "            train_total += _labels.size(0)\n",
    "            if get_cm_data:\n",
    "                _train_label_true.append(_labels)\n",
    "                _train_label_pred.append(preds)\n",
    "    \n",
    "        for _inputs, _labels in test_loader:\n",
    "            _inputs, _labels = _inputs.to(device), _labels.to(device)\n",
    "            _outputs = model(_inputs)\n",
    "            if isinstance(_outputs, tuple):  # For Inception V3\n",
    "                _outputs = _outputs[0]\n",
    "            _, preds = torch.max(_outputs, 1)\n",
    "            test_correct += (preds == _labels).sum().item()\n",
    "            test_total += _labels.size(0)\n",
    "            if get_cm_data:\n",
    "                _test_label_true.append(_labels)\n",
    "                _test_label_pred.append(preds)\n",
    "    \n",
    "    _train_accuracy = (train_correct / train_total) * 100\n",
    "    _test_accuracy = (test_correct / test_total) * 100\n",
    "    \n",
    "    return _train_accuracy, _test_accuracy, _train_label_true, _train_label_pred, _test_label_true, _test_label_pred"
   ]
  },
  {
   "cell_type": "code",
   "execution_count": 7,
   "id": "09f6dae6-7e2a-4587-95b8-6dcf7c3e2f7f",
   "metadata": {
    "ExecuteTime": {
     "end_time": "2024-11-26T07:10:18.737922Z",
     "start_time": "2024-11-26T07:06:37.772340Z"
    }
   },
   "outputs": [
    {
     "name": "stderr",
     "output_type": "stream",
     "text": [
      "  2%|██                                                                                 | 1/40 [00:09<06:01,  9.26s/it]"
     ]
    },
    {
     "name": "stdout",
     "output_type": "stream",
     "text": [
      "Epoch 1/40\n",
      "Training Loss: 5.5804\n",
      "Training Accuracy: 29.3750\n",
      "Testing Accuracy: 28.6432 \n",
      "\n"
     ]
    },
    {
     "name": "stderr",
     "output_type": "stream",
     "text": [
      "  5%|████▏                                                                              | 2/40 [00:18<05:51,  9.24s/it]"
     ]
    },
    {
     "name": "stdout",
     "output_type": "stream",
     "text": [
      "Epoch 2/40\n",
      "Training Loss: 5.3348\n",
      "Training Accuracy: 38.8750\n",
      "Testing Accuracy: 39.6985 \n",
      "\n"
     ]
    },
    {
     "name": "stderr",
     "output_type": "stream",
     "text": [
      "  8%|██████▏                                                                            | 3/40 [00:27<05:36,  9.11s/it]"
     ]
    },
    {
     "name": "stdout",
     "output_type": "stream",
     "text": [
      "Epoch 3/40\n",
      "Training Loss: 5.1789\n",
      "Training Accuracy: 56.2500\n",
      "Testing Accuracy: 47.2362 \n",
      "\n"
     ]
    },
    {
     "name": "stderr",
     "output_type": "stream",
     "text": [
      " 10%|████████▎                                                                          | 4/40 [00:36<05:22,  8.96s/it]"
     ]
    },
    {
     "name": "stdout",
     "output_type": "stream",
     "text": [
      "Epoch 4/40\n",
      "Training Loss: 5.1079\n",
      "Training Accuracy: 52.7500\n",
      "Testing Accuracy: 45.2261 \n",
      "\n"
     ]
    },
    {
     "name": "stderr",
     "output_type": "stream",
     "text": [
      " 12%|██████████▍                                                                        | 5/40 [00:44<05:10,  8.88s/it]"
     ]
    },
    {
     "name": "stdout",
     "output_type": "stream",
     "text": [
      "Epoch 5/40\n",
      "Training Loss: 4.9782\n",
      "Training Accuracy: 58.7500\n",
      "Testing Accuracy: 50.7538 \n",
      "\n"
     ]
    },
    {
     "name": "stderr",
     "output_type": "stream",
     "text": [
      " 15%|████████████▍                                                                      | 6/40 [00:53<04:59,  8.81s/it]"
     ]
    },
    {
     "name": "stdout",
     "output_type": "stream",
     "text": [
      "Epoch 6/40\n",
      "Training Loss: 4.8669\n",
      "Training Accuracy: 56.1250\n",
      "Testing Accuracy: 45.7286 \n",
      "\n"
     ]
    },
    {
     "name": "stderr",
     "output_type": "stream",
     "text": [
      " 18%|██████████████▌                                                                    | 7/40 [01:02<04:49,  8.77s/it]"
     ]
    },
    {
     "name": "stdout",
     "output_type": "stream",
     "text": [
      "Epoch 7/40\n",
      "Training Loss: 4.8313\n",
      "Training Accuracy: 60.5000\n",
      "Testing Accuracy: 48.2412 \n",
      "\n"
     ]
    },
    {
     "name": "stderr",
     "output_type": "stream",
     "text": [
      " 20%|████████████████▌                                                                  | 8/40 [01:10<04:39,  8.75s/it]"
     ]
    },
    {
     "name": "stdout",
     "output_type": "stream",
     "text": [
      "Epoch 8/40\n",
      "Training Loss: 4.7798\n",
      "Training Accuracy: 62.1250\n",
      "Testing Accuracy: 50.7538 \n",
      "\n"
     ]
    },
    {
     "name": "stderr",
     "output_type": "stream",
     "text": [
      " 22%|██████████████████▋                                                                | 9/40 [01:19<04:32,  8.78s/it]"
     ]
    },
    {
     "name": "stdout",
     "output_type": "stream",
     "text": [
      "Epoch 9/40\n",
      "Training Loss: 4.7655\n",
      "Training Accuracy: 60.7500\n",
      "Testing Accuracy: 49.2462 \n",
      "\n"
     ]
    },
    {
     "name": "stderr",
     "output_type": "stream",
     "text": [
      " 25%|████████████████████▌                                                             | 10/40 [01:28<04:22,  8.74s/it]"
     ]
    },
    {
     "name": "stdout",
     "output_type": "stream",
     "text": [
      "Epoch 10/40\n",
      "Training Loss: 4.7066\n",
      "Training Accuracy: 64.6250\n",
      "Testing Accuracy: 52.7638 \n",
      "\n"
     ]
    },
    {
     "name": "stderr",
     "output_type": "stream",
     "text": [
      " 28%|██████████████████████▌                                                           | 11/40 [01:37<04:12,  8.71s/it]"
     ]
    },
    {
     "name": "stdout",
     "output_type": "stream",
     "text": [
      "Epoch 11/40\n",
      "Training Loss: 4.6796\n",
      "Training Accuracy: 68.6250\n",
      "Testing Accuracy: 56.2814 \n",
      "\n"
     ]
    },
    {
     "name": "stderr",
     "output_type": "stream",
     "text": [
      " 30%|████████████████████████▌                                                         | 12/40 [01:45<04:03,  8.71s/it]"
     ]
    },
    {
     "name": "stdout",
     "output_type": "stream",
     "text": [
      "Epoch 12/40\n",
      "Training Loss: 4.6488\n",
      "Training Accuracy: 65.7500\n",
      "Testing Accuracy: 53.2663 \n",
      "\n"
     ]
    },
    {
     "name": "stderr",
     "output_type": "stream",
     "text": [
      " 32%|██████████████████████████▋                                                       | 13/40 [01:54<03:54,  8.69s/it]"
     ]
    },
    {
     "name": "stdout",
     "output_type": "stream",
     "text": [
      "Epoch 13/40\n",
      "Training Loss: 4.6213\n",
      "Training Accuracy: 68.1250\n",
      "Testing Accuracy: 53.2663 \n",
      "\n"
     ]
    },
    {
     "name": "stderr",
     "output_type": "stream",
     "text": [
      " 35%|████████████████████████████▋                                                     | 14/40 [02:03<03:46,  8.71s/it]"
     ]
    },
    {
     "name": "stdout",
     "output_type": "stream",
     "text": [
      "Epoch 14/40\n",
      "Training Loss: 4.5843\n",
      "Training Accuracy: 68.7500\n",
      "Testing Accuracy: 58.7940 \n",
      "\n"
     ]
    },
    {
     "name": "stderr",
     "output_type": "stream",
     "text": [
      " 38%|██████████████████████████████▊                                                   | 15/40 [02:11<03:37,  8.70s/it]"
     ]
    },
    {
     "name": "stdout",
     "output_type": "stream",
     "text": [
      "Epoch 15/40\n",
      "Training Loss: 4.5769\n",
      "Training Accuracy: 72.1250\n",
      "Testing Accuracy: 56.2814 \n",
      "\n"
     ]
    },
    {
     "name": "stderr",
     "output_type": "stream",
     "text": [
      " 40%|████████████████████████████████▊                                                 | 16/40 [02:20<03:30,  8.78s/it]"
     ]
    },
    {
     "name": "stdout",
     "output_type": "stream",
     "text": [
      "Epoch 16/40\n",
      "Training Loss: 4.5305\n",
      "Training Accuracy: 69.2500\n",
      "Testing Accuracy: 56.7839 \n",
      "\n"
     ]
    },
    {
     "name": "stderr",
     "output_type": "stream",
     "text": [
      " 42%|██████████████████████████████████▊                                               | 17/40 [02:29<03:21,  8.74s/it]"
     ]
    },
    {
     "name": "stdout",
     "output_type": "stream",
     "text": [
      "Epoch 17/40\n",
      "Training Loss: 4.5517\n",
      "Training Accuracy: 72.6250\n",
      "Testing Accuracy: 54.7739 \n",
      "\n"
     ]
    },
    {
     "name": "stderr",
     "output_type": "stream",
     "text": [
      " 45%|████████████████████████████████████▉                                             | 18/40 [02:38<03:12,  8.74s/it]"
     ]
    },
    {
     "name": "stdout",
     "output_type": "stream",
     "text": [
      "Epoch 18/40\n",
      "Training Loss: 4.5534\n",
      "Training Accuracy: 71.2500\n",
      "Testing Accuracy: 54.2714 \n",
      "\n"
     ]
    },
    {
     "name": "stderr",
     "output_type": "stream",
     "text": [
      " 48%|██████████████████████████████████████▉                                           | 19/40 [02:46<03:03,  8.73s/it]"
     ]
    },
    {
     "name": "stdout",
     "output_type": "stream",
     "text": [
      "Epoch 19/40\n",
      "Training Loss: 4.5293\n",
      "Training Accuracy: 72.8750\n",
      "Testing Accuracy: 56.2814 \n",
      "\n"
     ]
    },
    {
     "name": "stderr",
     "output_type": "stream",
     "text": [
      " 50%|█████████████████████████████████████████                                         | 20/40 [02:55<02:54,  8.72s/it]"
     ]
    },
    {
     "name": "stdout",
     "output_type": "stream",
     "text": [
      "Epoch 20/40\n",
      "Training Loss: 4.5443\n",
      "Training Accuracy: 74.7500\n",
      "Testing Accuracy: 56.2814 \n",
      "\n"
     ]
    },
    {
     "name": "stderr",
     "output_type": "stream",
     "text": [
      " 52%|███████████████████████████████████████████                                       | 21/40 [03:04<02:45,  8.71s/it]"
     ]
    },
    {
     "name": "stdout",
     "output_type": "stream",
     "text": [
      "Epoch 21/40\n",
      "Training Loss: 4.5115\n",
      "Training Accuracy: 71.7500\n",
      "Testing Accuracy: 57.2864 \n",
      "\n"
     ]
    },
    {
     "name": "stderr",
     "output_type": "stream",
     "text": [
      " 55%|█████████████████████████████████████████████                                     | 22/40 [03:13<02:36,  8.69s/it]"
     ]
    },
    {
     "name": "stdout",
     "output_type": "stream",
     "text": [
      "Epoch 22/40\n",
      "Training Loss: 4.4646\n",
      "Training Accuracy: 74.7500\n",
      "Testing Accuracy: 56.7839 \n",
      "\n"
     ]
    },
    {
     "name": "stderr",
     "output_type": "stream",
     "text": [
      " 57%|███████████████████████████████████████████████▏                                  | 23/40 [03:21<02:28,  8.72s/it]"
     ]
    },
    {
     "name": "stdout",
     "output_type": "stream",
     "text": [
      "Epoch 23/40\n",
      "Training Loss: 4.4442\n",
      "Training Accuracy: 73.2500\n",
      "Testing Accuracy: 55.2764 \n",
      "\n"
     ]
    },
    {
     "name": "stderr",
     "output_type": "stream",
     "text": [
      " 60%|█████████████████████████████████████████████████▏                                | 24/40 [03:30<02:19,  8.72s/it]"
     ]
    },
    {
     "name": "stdout",
     "output_type": "stream",
     "text": [
      "Epoch 24/40\n",
      "Training Loss: 4.4689\n",
      "Training Accuracy: 77.0000\n",
      "Testing Accuracy: 55.7789 \n",
      "\n"
     ]
    },
    {
     "name": "stderr",
     "output_type": "stream",
     "text": [
      " 62%|███████████████████████████████████████████████████▎                              | 25/40 [03:39<02:10,  8.72s/it]"
     ]
    },
    {
     "name": "stdout",
     "output_type": "stream",
     "text": [
      "Epoch 25/40\n",
      "Training Loss: 4.4176\n",
      "Training Accuracy: 76.2500\n",
      "Testing Accuracy: 56.2814 \n",
      "\n"
     ]
    },
    {
     "name": "stderr",
     "output_type": "stream",
     "text": [
      " 65%|█████████████████████████████████████████████████████▎                            | 26/40 [03:47<02:02,  8.73s/it]"
     ]
    },
    {
     "name": "stdout",
     "output_type": "stream",
     "text": [
      "Epoch 26/40\n",
      "Training Loss: 4.3946\n",
      "Training Accuracy: 75.0000\n",
      "Testing Accuracy: 58.2915 \n",
      "\n"
     ]
    },
    {
     "name": "stderr",
     "output_type": "stream",
     "text": [
      " 68%|███████████████████████████████████████████████████████▎                          | 27/40 [03:56<01:53,  8.72s/it]"
     ]
    },
    {
     "name": "stdout",
     "output_type": "stream",
     "text": [
      "Epoch 27/40\n",
      "Training Loss: 4.3987\n",
      "Training Accuracy: 73.3750\n",
      "Testing Accuracy: 58.2915 \n",
      "\n"
     ]
    },
    {
     "name": "stderr",
     "output_type": "stream",
     "text": [
      " 70%|█████████████████████████████████████████████████████████▍                        | 28/40 [04:05<01:44,  8.69s/it]"
     ]
    },
    {
     "name": "stdout",
     "output_type": "stream",
     "text": [
      "Epoch 28/40\n",
      "Training Loss: 4.4097\n",
      "Training Accuracy: 75.8750\n",
      "Testing Accuracy: 60.3015 \n",
      "\n"
     ]
    },
    {
     "name": "stderr",
     "output_type": "stream",
     "text": [
      " 72%|███████████████████████████████████████████████████████████▍                      | 29/40 [04:13<01:35,  8.69s/it]"
     ]
    },
    {
     "name": "stdout",
     "output_type": "stream",
     "text": [
      "Epoch 29/40\n",
      "Training Loss: 4.3948\n",
      "Training Accuracy: 77.3750\n",
      "Testing Accuracy: 59.7990 \n",
      "\n"
     ]
    },
    {
     "name": "stderr",
     "output_type": "stream",
     "text": [
      " 75%|█████████████████████████████████████████████████████████████▌                    | 30/40 [04:22<01:26,  8.66s/it]"
     ]
    },
    {
     "name": "stdout",
     "output_type": "stream",
     "text": [
      "Epoch 30/40\n",
      "Training Loss: 4.3765\n",
      "Training Accuracy: 78.0000\n",
      "Testing Accuracy: 57.7889 \n",
      "\n"
     ]
    },
    {
     "name": "stderr",
     "output_type": "stream",
     "text": [
      " 78%|███████████████████████████████████████████████████████████████▌                  | 31/40 [04:31<01:18,  8.68s/it]"
     ]
    },
    {
     "name": "stdout",
     "output_type": "stream",
     "text": [
      "Epoch 31/40\n",
      "Training Loss: 4.3630\n",
      "Training Accuracy: 77.7500\n",
      "Testing Accuracy: 56.7839 \n",
      "\n"
     ]
    },
    {
     "name": "stderr",
     "output_type": "stream",
     "text": [
      " 80%|█████████████████████████████████████████████████████████████████▌                | 32/40 [04:39<01:09,  8.67s/it]"
     ]
    },
    {
     "name": "stdout",
     "output_type": "stream",
     "text": [
      "Epoch 32/40\n",
      "Training Loss: 4.3298\n",
      "Training Accuracy: 79.0000\n",
      "Testing Accuracy: 59.2965 \n",
      "\n"
     ]
    },
    {
     "name": "stderr",
     "output_type": "stream",
     "text": [
      " 82%|███████████████████████████████████████████████████████████████████▋              | 33/40 [04:48<01:00,  8.66s/it]"
     ]
    },
    {
     "name": "stdout",
     "output_type": "stream",
     "text": [
      "Epoch 33/40\n",
      "Training Loss: 4.4038\n",
      "Training Accuracy: 80.0000\n",
      "Testing Accuracy: 61.3065 \n",
      "\n"
     ]
    },
    {
     "name": "stderr",
     "output_type": "stream",
     "text": [
      " 85%|█████████████████████████████████████████████████████████████████████▋            | 34/40 [04:57<00:51,  8.66s/it]"
     ]
    },
    {
     "name": "stdout",
     "output_type": "stream",
     "text": [
      "Epoch 34/40\n",
      "Training Loss: 4.3690\n",
      "Training Accuracy: 78.8750\n",
      "Testing Accuracy: 59.7990 \n",
      "\n"
     ]
    },
    {
     "name": "stderr",
     "output_type": "stream",
     "text": [
      " 88%|███████████████████████████████████████████████████████████████████████▊          | 35/40 [05:05<00:43,  8.67s/it]"
     ]
    },
    {
     "name": "stdout",
     "output_type": "stream",
     "text": [
      "Epoch 35/40\n",
      "Training Loss: 4.2993\n",
      "Training Accuracy: 80.3750\n",
      "Testing Accuracy: 59.2965 \n",
      "\n"
     ]
    },
    {
     "name": "stderr",
     "output_type": "stream",
     "text": [
      " 90%|█████████████████████████████████████████████████████████████████████████▊        | 36/40 [05:14<00:34,  8.68s/it]"
     ]
    },
    {
     "name": "stdout",
     "output_type": "stream",
     "text": [
      "Epoch 36/40\n",
      "Training Loss: 4.3312\n",
      "Training Accuracy: 79.1250\n",
      "Testing Accuracy: 56.2814 \n",
      "\n"
     ]
    },
    {
     "name": "stderr",
     "output_type": "stream",
     "text": [
      " 92%|███████████████████████████████████████████████████████████████████████████▊      | 37/40 [05:23<00:26,  8.68s/it]"
     ]
    },
    {
     "name": "stdout",
     "output_type": "stream",
     "text": [
      "Epoch 37/40\n",
      "Training Loss: 4.3233\n",
      "Training Accuracy: 80.2500\n",
      "Testing Accuracy: 60.8040 \n",
      "\n"
     ]
    },
    {
     "name": "stderr",
     "output_type": "stream",
     "text": [
      " 95%|█████████████████████████████████████████████████████████████████████████████▉    | 38/40 [05:32<00:17,  8.68s/it]"
     ]
    },
    {
     "name": "stdout",
     "output_type": "stream",
     "text": [
      "Epoch 38/40\n",
      "Training Loss: 4.3491\n",
      "Training Accuracy: 81.1250\n",
      "Testing Accuracy: 56.2814 \n",
      "\n"
     ]
    },
    {
     "name": "stderr",
     "output_type": "stream",
     "text": [
      " 98%|███████████████████████████████████████████████████████████████████████████████▉  | 39/40 [05:40<00:08,  8.69s/it]"
     ]
    },
    {
     "name": "stdout",
     "output_type": "stream",
     "text": [
      "Epoch 39/40\n",
      "Training Loss: 4.2930\n",
      "Training Accuracy: 80.2500\n",
      "Testing Accuracy: 59.2965 \n",
      "\n"
     ]
    },
    {
     "name": "stderr",
     "output_type": "stream",
     "text": [
      "100%|██████████████████████████████████████████████████████████████████████████████████| 40/40 [05:49<00:00,  8.74s/it]"
     ]
    },
    {
     "name": "stdout",
     "output_type": "stream",
     "text": [
      "Epoch 40/40\n",
      "Training Loss: 4.2738\n",
      "Training Accuracy: 78.7500\n",
      "Testing Accuracy: 56.7839 \n",
      "\n"
     ]
    },
    {
     "name": "stderr",
     "output_type": "stream",
     "text": [
      "\n"
     ]
    }
   ],
   "source": [
    "# Training loop\n",
    "num_epochs = 40\n",
    "\n",
    "train_loss_history = []\n",
    "train_accuracy_history = []\n",
    "test_accuracy_history = []\n",
    "\n",
    "for epoch in tqdm(range(num_epochs)):\n",
    "    inception_v3.train()\n",
    "    running_loss = 0.0\n",
    "\n",
    "    for inputs, labels in train_loader:\n",
    "        inputs, labels = inputs.to(device), labels.to(device)\n",
    "\n",
    "        optimizer.zero_grad()\n",
    "        outputs = inception_v3(inputs)\n",
    "        if isinstance(outputs, tuple):  # Primary and auxiliary outputs for Inception V3\n",
    "            main_outputs, aux_outputs = outputs\n",
    "            loss = criterion(main_outputs, labels) + 0.4 * criterion(aux_outputs, labels)\n",
    "        else:\n",
    "            loss = criterion(outputs, labels)\n",
    "        loss.backward()\n",
    "        optimizer.step()\n",
    "\n",
    "        running_loss += loss.item()\n",
    "\n",
    "    train_accuracy, test_accuracy, train_label_true, train_label_pred, test_label_true, test_label_pred = test_model(inception_v3, get_cm_data=False)\n",
    "    train_accuracy_history.append(train_accuracy)\n",
    "    test_accuracy_history.append(test_accuracy)\n",
    "\n",
    "    epoch_loss = running_loss / len(train_loader)\n",
    "    train_loss_history.append(epoch_loss)\n",
    "    \n",
    "    print(f\"Epoch {epoch+1}/{num_epochs}\")\n",
    "    print(f\"Training Loss: {epoch_loss:.4f}\")\n",
    "    print(f\"Training Accuracy: {train_accuracy:.4f}\")\n",
    "    print(f\"Testing Accuracy: {test_accuracy:.4f} \\n\")\n",
    "    \n",
    "    torch.save(inception_v3.state_dict(), 'model_inception_v3.pth')\n",
    "    \n",
    "_, _, train_label_true, train_label_pred, test_label_true, test_label_pred = test_model(inception_v3, get_cm_data=True)"
   ]
  },
  {
   "cell_type": "code",
   "execution_count": 8,
   "id": "150380ba-f14b-414a-8de5-78b1edbe41f2",
   "metadata": {
    "ExecuteTime": {
     "end_time": "2024-11-26T07:10:18.905487Z",
     "start_time": "2024-11-26T07:10:18.794750Z"
    }
   },
   "outputs": [
    {
     "data": {
      "image/png": "[encoded data removed]",
      "text/plain": [
       "<Figure size 640x480 with 1 Axes>"
      ]
     },
     "metadata": {},
     "output_type": "display_data"
    }
   ],
   "source": [
    "# Plot training loss\n",
    "plt.plot(train_loss_history, label='Train Loss History')\n",
    "plt.xlabel('Epochs')\n",
    "plt.ylabel('Loss')\n",
    "plt.title('Training Loss History')\n",
    "plt.legend()\n",
    "plt.show()"
   ]
  },
  {
   "cell_type": "code",
   "execution_count": 9,
   "id": "e09f94106f43ac4f",
   "metadata": {
    "ExecuteTime": {
     "end_time": "2024-11-26T07:10:19.128837Z",
     "start_time": "2024-11-26T07:10:18.990916Z"
    }
   },
   "outputs": [
    {
     "data": {
      "image/png": "[encoded data removed]",
      "text/plain": [
       "<Figure size 640x480 with 1 Axes>"
      ]
     },
     "metadata": {},
     "output_type": "display_data"
    }
   ],
   "source": [
    "# Plot training loss\n",
    "plt.plot(train_accuracy_history, label='Training Accuracy')\n",
    "plt.plot(test_accuracy_history, label='Testing Accuracy')\n",
    "plt.xlabel('Epochs')\n",
    "plt.ylabel('Accuracy %')\n",
    "plt.title('Accuracy History')\n",
    "plt.legend()\n",
    "plt.show()"
   ]
  },
  {
   "cell_type": "code",
   "execution_count": 10,
   "id": "1ccaf1aa9834f06d",
   "metadata": {
    "ExecuteTime": {
     "end_time": "2024-11-26T07:10:19.198565Z",
     "start_time": "2024-11-26T07:10:19.193058Z"
    }
   },
   "outputs": [],
   "source": [
    "def display_confusion_matrix(true_labels, predicted_labels, is_train=False):\n",
    "    cm = confusion_matrix(torch.cat(true_labels).cpu(), torch.cat(predicted_labels).cpu(), labels=list(range(len(class_names))))\n",
    "    \n",
    "    disp = ConfusionMatrixDisplay(confusion_matrix=cm, display_labels=class_names)\n",
    "    disp.plot(cmap='Blues', xticks_rotation=45, colorbar=False)\n",
    "    \n",
    "    if is_train:\n",
    "        plt.title(\"Training Confusion Matrix\")\n",
    "    else:\n",
    "        plt.title(\"Testing Confusion Matrix\")\n",
    "        \n",
    "    plt.show()"
   ]
  },
  {
   "cell_type": "code",
   "execution_count": 11,
   "id": "65491eea5b37d1ef",
   "metadata": {
    "ExecuteTime": {
     "end_time": "2024-11-26T07:10:19.459530Z",
     "start_time": "2024-11-26T07:10:19.305373Z"
    }
   },
   "outputs": [
    {
     "data": {
      "image/png": "[encoded data removed]",
      "text/plain": [
       "<Figure size 640x480 with 1 Axes>"
      ]
     },
     "metadata": {},
     "output_type": "display_data"
    }
   ],
   "source": [
    "display_confusion_matrix(train_label_true, train_label_pred, is_train=True)"
   ]
  },
  {
   "cell_type": "code",
   "execution_count": 12,
   "id": "798755ce8a4d9bd5",
   "metadata": {
    "ExecuteTime": {
     "end_time": "2024-11-26T07:10:19.745904Z",
     "start_time": "2024-11-26T07:10:19.521399Z"
    }
   },
   "outputs": [
    {
     "data": {
      "image/png": "[encoded data removed]",
      "text/plain": [
       "<Figure size 640x480 with 1 Axes>"
      ]
     },
     "metadata": {},
     "output_type": "display_data"
    }
   ],
   "source": [
    "display_confusion_matrix(test_label_true, test_label_pred, is_train=False)"
   ]
  }
 ],
 "metadata": {
  "kernelspec": {
   "display_name": "Python 3 (ipykernel)",
   "language": "python",
   "name": "python3"
  },
  "language_info": {
   "codemirror_mode": {
    "name": "ipython",
    "version": 3
   },
   "file_extension": ".py",
   "mimetype": "text/x-python",
   "name": "python",
   "nbconvert_exporter": "python",
   "pygments_lexer": "ipython3",
   "version": "3.12.4"
  }
 },
 "nbformat": 4,
 "nbformat_minor": 5
}
